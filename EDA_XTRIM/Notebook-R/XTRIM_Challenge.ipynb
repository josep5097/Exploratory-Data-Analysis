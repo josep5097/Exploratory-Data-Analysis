{
 "cells": [
  {
   "cell_type": "markdown",
   "id": "a9213559",
   "metadata": {},
   "source": [
    "# Desafio para Científico de Datos\n",
    "\n",
    "Realizado por: Ing. José Miguel Pereira Pontón\n",
    "\n",
    "Empresa: Xtrim TVCABLE\n",
    "\n",
    "## Caso de Estudio\n",
    "### Deserciones de clientes en una compañía de Telecomunicaciones\n",
    ">La compañía XTRIM tiene la necesidad de reducir la cantidad de deserciones de los clientes por el cual el área de analítica proponer realizar un análisis para predecir los clientes con probabilidad de realizar una deserción (CHURN).\n",
    "\n",
    "## Tabla de contenido\n",
    "1. Importaciones\n",
    "2. Visualización preliminar\n",
    "3. Modelo\n",
    "4. Evaluación\n",
    "5. Conclusiones\n",
    "\n",
    "### 1.Importaciones"
   ]
  },
  {
   "cell_type": "code",
   "execution_count": 1,
   "id": "930a2d83",
   "metadata": {},
   "outputs": [
    {
     "name": "stderr",
     "output_type": "stream",
     "text": [
      "\n",
      "Attaching package: 'dplyr'\n",
      "\n",
      "The following objects are masked from 'package:stats':\n",
      "\n",
      "    filter, lag\n",
      "\n",
      "The following objects are masked from 'package:base':\n",
      "\n",
      "    intersect, setdiff, setequal, union\n",
      "\n",
      "Registered S3 methods overwritten by 'ggplot2':\n",
      "  method         from \n",
      "  [.quosures     rlang\n",
      "  c.quosures     rlang\n",
      "  print.quosures rlang\n",
      "corrplot 0.84 loaded\n",
      "Type 'citation(\"pROC\")' for a citation.\n",
      "\n",
      "Attaching package: 'pROC'\n",
      "\n",
      "The following objects are masked from 'package:stats':\n",
      "\n",
      "    cov, smooth, var\n",
      "\n",
      "Loading required package: lattice\n",
      "Loading required package: survival\n",
      "\n",
      "Attaching package: 'survival'\n",
      "\n",
      "The following object is masked from 'package:caret':\n",
      "\n",
      "    cluster\n",
      "\n",
      "Loading required package: Formula\n",
      "\n",
      "Attaching package: 'Hmisc'\n",
      "\n",
      "The following object is masked from 'package:e1071':\n",
      "\n",
      "    impute\n",
      "\n",
      "The following objects are masked from 'package:dplyr':\n",
      "\n",
      "    src, summarize\n",
      "\n",
      "The following objects are masked from 'package:base':\n",
      "\n",
      "    format.pval, units\n",
      "\n",
      "Loading required package: gplots\n",
      "\n",
      "Attaching package: 'gplots'\n",
      "\n",
      "The following object is masked from 'package:stats':\n",
      "\n",
      "    lowess\n",
      "\n"
     ]
    }
   ],
   "source": [
    "# Librerias ====\n",
    "library(dplyr)\n",
    "library(ggplot2)\n",
    "library(corrplot)\n",
    "library(pROC)\n",
    "library(ROCR)\n",
    "library(e1071)\n",
    "library(caret)\n",
    "library(Hmisc)\n",
    "library(caTools)\n"
   ]
  },
  {
   "cell_type": "code",
   "execution_count": 2,
   "id": "93fe0df1",
   "metadata": {},
   "outputs": [],
   "source": [
    "DB_1 <- read.csv(\"Data/Telco-Customer-Churn.csv\",\n",
    "                 header = T,\n",
    "                 sep = \",\",\n",
    "                 stringsAsFactors = T)"
   ]
  },
  {
   "cell_type": "markdown",
   "id": "24736ee2",
   "metadata": {},
   "source": [
    "Con la base de datos cargada, se observan los 5 primeros elementos de la misma."
   ]
  },
  {
   "cell_type": "code",
   "execution_count": 3,
   "id": "dd824c89",
   "metadata": {},
   "outputs": [
    {
     "data": {
      "text/html": [
       "<table>\n",
       "<thead><tr><th scope=col>customerID</th><th scope=col>gender</th><th scope=col>SeniorCitizen</th><th scope=col>Partner</th><th scope=col>Dependents</th><th scope=col>tenure</th><th scope=col>PhoneService</th><th scope=col>MultipleLines</th><th scope=col>InternetService</th><th scope=col>OnlineSecurity</th><th scope=col>...</th><th scope=col>DeviceProtection</th><th scope=col>TechSupport</th><th scope=col>StreamingTV</th><th scope=col>StreamingMovies</th><th scope=col>Contract</th><th scope=col>PaperlessBilling</th><th scope=col>PaymentMethod</th><th scope=col>MonthlyCharges</th><th scope=col>TotalCharges</th><th scope=col>Churn</th></tr></thead>\n",
       "<tbody>\n",
       "\t<tr><td>7590-VHVEG               </td><td>Female                   </td><td>0                        </td><td>Yes                      </td><td>No                       </td><td> 1                       </td><td>No                       </td><td>No phone service         </td><td>DSL                      </td><td>No                       </td><td>...                      </td><td>No                       </td><td>No                       </td><td>No                       </td><td>No                       </td><td>Month-to-month           </td><td>Yes                      </td><td>Electronic check         </td><td>29.85                    </td><td>  29.85                  </td><td>No                       </td></tr>\n",
       "\t<tr><td>5575-GNVDE               </td><td>Male                     </td><td>0                        </td><td>No                       </td><td>No                       </td><td>34                       </td><td>Yes                      </td><td>No                       </td><td>DSL                      </td><td>Yes                      </td><td>...                      </td><td>Yes                      </td><td>No                       </td><td>No                       </td><td>No                       </td><td>One year                 </td><td>No                       </td><td>Mailed check             </td><td>56.95                    </td><td>1889.50                  </td><td>No                       </td></tr>\n",
       "\t<tr><td>3668-QPYBK               </td><td>Male                     </td><td>0                        </td><td>No                       </td><td>No                       </td><td> 2                       </td><td>Yes                      </td><td>No                       </td><td>DSL                      </td><td>Yes                      </td><td>...                      </td><td>No                       </td><td>No                       </td><td>No                       </td><td>No                       </td><td>Month-to-month           </td><td>Yes                      </td><td>Mailed check             </td><td>53.85                    </td><td> 108.15                  </td><td>Yes                      </td></tr>\n",
       "\t<tr><td>7795-CFOCW               </td><td>Male                     </td><td>0                        </td><td>No                       </td><td>No                       </td><td>45                       </td><td>No                       </td><td>No phone service         </td><td>DSL                      </td><td>Yes                      </td><td>...                      </td><td>Yes                      </td><td>Yes                      </td><td>No                       </td><td>No                       </td><td>One year                 </td><td>No                       </td><td>Bank transfer (automatic)</td><td>42.30                    </td><td>1840.75                  </td><td>No                       </td></tr>\n",
       "\t<tr><td>9237-HQITU               </td><td>Female                   </td><td>0                        </td><td>No                       </td><td>No                       </td><td> 2                       </td><td>Yes                      </td><td>No                       </td><td>Fiber optic              </td><td>No                       </td><td>...                      </td><td>No                       </td><td>No                       </td><td>No                       </td><td>No                       </td><td>Month-to-month           </td><td>Yes                      </td><td>Electronic check         </td><td>70.70                    </td><td> 151.65                  </td><td>Yes                      </td></tr>\n",
       "\t<tr><td>9305-CDSKC               </td><td>Female                   </td><td>0                        </td><td>No                       </td><td>No                       </td><td> 8                       </td><td>Yes                      </td><td>Yes                      </td><td>Fiber optic              </td><td>No                       </td><td>...                      </td><td>Yes                      </td><td>No                       </td><td>Yes                      </td><td>Yes                      </td><td>Month-to-month           </td><td>Yes                      </td><td>Electronic check         </td><td>99.65                    </td><td> 820.50                  </td><td>Yes                      </td></tr>\n",
       "</tbody>\n",
       "</table>\n"
      ],
      "text/latex": [
       "\\begin{tabular}{r|lllllllllllllllllllll}\n",
       " customerID & gender & SeniorCitizen & Partner & Dependents & tenure & PhoneService & MultipleLines & InternetService & OnlineSecurity & ... & DeviceProtection & TechSupport & StreamingTV & StreamingMovies & Contract & PaperlessBilling & PaymentMethod & MonthlyCharges & TotalCharges & Churn\\\\\n",
       "\\hline\n",
       "\t 7590-VHVEG                & Female                    & 0                         & Yes                       & No                        &  1                        & No                        & No phone service          & DSL                       & No                        & ...                       & No                        & No                        & No                        & No                        & Month-to-month            & Yes                       & Electronic check          & 29.85                     &   29.85                   & No                       \\\\\n",
       "\t 5575-GNVDE                & Male                      & 0                         & No                        & No                        & 34                        & Yes                       & No                        & DSL                       & Yes                       & ...                       & Yes                       & No                        & No                        & No                        & One year                  & No                        & Mailed check              & 56.95                     & 1889.50                   & No                       \\\\\n",
       "\t 3668-QPYBK                & Male                      & 0                         & No                        & No                        &  2                        & Yes                       & No                        & DSL                       & Yes                       & ...                       & No                        & No                        & No                        & No                        & Month-to-month            & Yes                       & Mailed check              & 53.85                     &  108.15                   & Yes                      \\\\\n",
       "\t 7795-CFOCW                & Male                      & 0                         & No                        & No                        & 45                        & No                        & No phone service          & DSL                       & Yes                       & ...                       & Yes                       & Yes                       & No                        & No                        & One year                  & No                        & Bank transfer (automatic) & 42.30                     & 1840.75                   & No                       \\\\\n",
       "\t 9237-HQITU                & Female                    & 0                         & No                        & No                        &  2                        & Yes                       & No                        & Fiber optic               & No                        & ...                       & No                        & No                        & No                        & No                        & Month-to-month            & Yes                       & Electronic check          & 70.70                     &  151.65                   & Yes                      \\\\\n",
       "\t 9305-CDSKC                & Female                    & 0                         & No                        & No                        &  8                        & Yes                       & Yes                       & Fiber optic               & No                        & ...                       & Yes                       & No                        & Yes                       & Yes                       & Month-to-month            & Yes                       & Electronic check          & 99.65                     &  820.50                   & Yes                      \\\\\n",
       "\\end{tabular}\n"
      ],
      "text/markdown": [
       "\n",
       "| customerID | gender | SeniorCitizen | Partner | Dependents | tenure | PhoneService | MultipleLines | InternetService | OnlineSecurity | ... | DeviceProtection | TechSupport | StreamingTV | StreamingMovies | Contract | PaperlessBilling | PaymentMethod | MonthlyCharges | TotalCharges | Churn |\n",
       "|---|---|---|---|---|---|---|---|---|---|---|---|---|---|---|---|---|---|---|---|---|\n",
       "| 7590-VHVEG                | Female                    | 0                         | Yes                       | No                        |  1                        | No                        | No phone service          | DSL                       | No                        | ...                       | No                        | No                        | No                        | No                        | Month-to-month            | Yes                       | Electronic check          | 29.85                     |   29.85                   | No                        |\n",
       "| 5575-GNVDE                | Male                      | 0                         | No                        | No                        | 34                        | Yes                       | No                        | DSL                       | Yes                       | ...                       | Yes                       | No                        | No                        | No                        | One year                  | No                        | Mailed check              | 56.95                     | 1889.50                   | No                        |\n",
       "| 3668-QPYBK                | Male                      | 0                         | No                        | No                        |  2                        | Yes                       | No                        | DSL                       | Yes                       | ...                       | No                        | No                        | No                        | No                        | Month-to-month            | Yes                       | Mailed check              | 53.85                     |  108.15                   | Yes                       |\n",
       "| 7795-CFOCW                | Male                      | 0                         | No                        | No                        | 45                        | No                        | No phone service          | DSL                       | Yes                       | ...                       | Yes                       | Yes                       | No                        | No                        | One year                  | No                        | Bank transfer (automatic) | 42.30                     | 1840.75                   | No                        |\n",
       "| 9237-HQITU                | Female                    | 0                         | No                        | No                        |  2                        | Yes                       | No                        | Fiber optic               | No                        | ...                       | No                        | No                        | No                        | No                        | Month-to-month            | Yes                       | Electronic check          | 70.70                     |  151.65                   | Yes                       |\n",
       "| 9305-CDSKC                | Female                    | 0                         | No                        | No                        |  8                        | Yes                       | Yes                       | Fiber optic               | No                        | ...                       | Yes                       | No                        | Yes                       | Yes                       | Month-to-month            | Yes                       | Electronic check          | 99.65                     |  820.50                   | Yes                       |\n",
       "\n"
      ],
      "text/plain": [
       "  customerID gender SeniorCitizen Partner Dependents tenure PhoneService\n",
       "1 7590-VHVEG Female 0             Yes     No          1     No          \n",
       "2 5575-GNVDE Male   0             No      No         34     Yes         \n",
       "3 3668-QPYBK Male   0             No      No          2     Yes         \n",
       "4 7795-CFOCW Male   0             No      No         45     No          \n",
       "5 9237-HQITU Female 0             No      No          2     Yes         \n",
       "6 9305-CDSKC Female 0             No      No          8     Yes         \n",
       "  MultipleLines    InternetService OnlineSecurity ... DeviceProtection\n",
       "1 No phone service DSL             No             ... No              \n",
       "2 No               DSL             Yes            ... Yes             \n",
       "3 No               DSL             Yes            ... No              \n",
       "4 No phone service DSL             Yes            ... Yes             \n",
       "5 No               Fiber optic     No             ... No              \n",
       "6 Yes              Fiber optic     No             ... Yes             \n",
       "  TechSupport StreamingTV StreamingMovies Contract       PaperlessBilling\n",
       "1 No          No          No              Month-to-month Yes             \n",
       "2 No          No          No              One year       No              \n",
       "3 No          No          No              Month-to-month Yes             \n",
       "4 Yes         No          No              One year       No              \n",
       "5 No          No          No              Month-to-month Yes             \n",
       "6 No          Yes         Yes             Month-to-month Yes             \n",
       "  PaymentMethod             MonthlyCharges TotalCharges Churn\n",
       "1 Electronic check          29.85            29.85      No   \n",
       "2 Mailed check              56.95          1889.50      No   \n",
       "3 Mailed check              53.85           108.15      Yes  \n",
       "4 Bank transfer (automatic) 42.30          1840.75      No   \n",
       "5 Electronic check          70.70           151.65      Yes  \n",
       "6 Electronic check          99.65           820.50      Yes  "
      ]
     },
     "metadata": {},
     "output_type": "display_data"
    }
   ],
   "source": [
    "head(DB_1)"
   ]
  },
  {
   "cell_type": "markdown",
   "id": "ed122bfb",
   "metadata": {},
   "source": [
    "Es importante reconocer que tipos de datos se poseen, por lo cual, los describimos a continuación."
   ]
  },
  {
   "cell_type": "code",
   "execution_count": 4,
   "id": "8e1f7ae0",
   "metadata": {},
   "outputs": [
    {
     "name": "stdout",
     "output_type": "stream",
     "text": [
      "Observations: 7,043\n",
      "Variables: 21\n",
      "$ customerID       <fct> 7590-VHVEG, 5575-GNVDE, 3668-QPYBK, 7795-CFOCW, 92...\n",
      "$ gender           <fct> Female, Male, Male, Male, Female, Female, Male, Fe...\n",
      "$ SeniorCitizen    <int> 0, 0, 0, 0, 0, 0, 0, 0, 0, 0, 0, 0, 0, 0, 0, 0, 0,...\n",
      "$ Partner          <fct> Yes, No, No, No, No, No, No, No, Yes, No, Yes, No,...\n",
      "$ Dependents       <fct> No, No, No, No, No, No, Yes, No, No, Yes, Yes, No,...\n",
      "$ tenure           <int> 1, 34, 2, 45, 2, 8, 22, 10, 28, 62, 13, 16, 58, 49...\n",
      "$ PhoneService     <fct> No, Yes, Yes, No, Yes, Yes, Yes, No, Yes, Yes, Yes...\n",
      "$ MultipleLines    <fct> No phone service, No, No, No phone service, No, Ye...\n",
      "$ InternetService  <fct> DSL, DSL, DSL, DSL, Fiber optic, Fiber optic, Fibe...\n",
      "$ OnlineSecurity   <fct> No, Yes, Yes, Yes, No, No, No, Yes, No, Yes, Yes, ...\n",
      "$ OnlineBackup     <fct> Yes, No, Yes, No, No, No, Yes, No, No, Yes, No, No...\n",
      "$ DeviceProtection <fct> No, Yes, No, Yes, No, Yes, No, No, Yes, No, No, No...\n",
      "$ TechSupport      <fct> No, No, No, Yes, No, No, No, No, Yes, No, No, No i...\n",
      "$ StreamingTV      <fct> No, No, No, No, No, Yes, Yes, No, Yes, No, No, No ...\n",
      "$ StreamingMovies  <fct> No, No, No, No, No, Yes, No, No, Yes, No, No, No i...\n",
      "$ Contract         <fct> Month-to-month, One year, Month-to-month, One year...\n",
      "$ PaperlessBilling <fct> Yes, No, Yes, No, Yes, Yes, Yes, No, Yes, No, Yes,...\n",
      "$ PaymentMethod    <fct> Electronic check, Mailed check, Mailed check, Bank...\n",
      "$ MonthlyCharges   <dbl> 29.85, 56.95, 53.85, 42.30, 70.70, 99.65, 89.10, 2...\n",
      "$ TotalCharges     <dbl> 29.85, 1889.50, 108.15, 1840.75, 151.65, 820.50, 1...\n",
      "$ Churn            <fct> No, No, Yes, No, Yes, Yes, No, No, Yes, No, No, No...\n"
     ]
    }
   ],
   "source": [
    "# Tipo de datos que se poseen\n",
    "glimpse(DB_1)"
   ]
  },
  {
   "cell_type": "markdown",
   "id": "58fa0720",
   "metadata": {},
   "source": [
    "Se posee un total de 7043 observaciones con 21 variables.\n",
    "\n",
    "Se debe de escoger las variables categoricas de importancia para el modelo.\n",
    "\n",
    "Previo a la realización del modelo, se realizará una inspección inicial de la información pertinente.\n",
    "\n",
    "Primero, observemos si que existen datos faltantes."
   ]
  },
  {
   "cell_type": "code",
   "execution_count": 5,
   "id": "ad4b9ed1",
   "metadata": {},
   "outputs": [
    {
     "data": {
      "text/plain": [
       "DB_1 \n",
       "\n",
       " 21  Variables      7043  Observations\n",
       "--------------------------------------------------------------------------------\n",
       "customerID \n",
       "       n  missing distinct \n",
       "    7043        0     7043 \n",
       "\n",
       "lowest : 0002-ORFBO 0003-MKNFE 0004-TLHLJ 0011-IGKFF 0013-EXCHZ\n",
       "highest: 9987-LUTYD 9992-RRAMN 9992-UJOEL 9993-LHIEB 9995-HOTOH\n",
       "--------------------------------------------------------------------------------\n",
       "gender \n",
       "       n  missing distinct \n",
       "    7043        0        2 \n",
       "                        \n",
       "Value      Female   Male\n",
       "Frequency    3488   3555\n",
       "Proportion  0.495  0.505\n",
       "--------------------------------------------------------------------------------\n",
       "SeniorCitizen \n",
       "       n  missing distinct     Info      Sum     Mean      Gmd \n",
       "    7043        0        2    0.408     1142   0.1621   0.2717 \n",
       "\n",
       "--------------------------------------------------------------------------------\n",
       "Partner \n",
       "       n  missing distinct \n",
       "    7043        0        2 \n",
       "                      \n",
       "Value         No   Yes\n",
       "Frequency   3641  3402\n",
       "Proportion 0.517 0.483\n",
       "--------------------------------------------------------------------------------\n",
       "Dependents \n",
       "       n  missing distinct \n",
       "    7043        0        2 \n",
       "                    \n",
       "Value        No  Yes\n",
       "Frequency  4933 2110\n",
       "Proportion  0.7  0.3\n",
       "--------------------------------------------------------------------------------\n",
       "tenure \n",
       "       n  missing distinct     Info     Mean      Gmd      .05      .10 \n",
       "    7043        0       73    0.999    32.37    28.08        1        2 \n",
       "     .25      .50      .75      .90      .95 \n",
       "       9       29       55       69       72 \n",
       "\n",
       "lowest :  0  1  2  3  4, highest: 68 69 70 71 72\n",
       "--------------------------------------------------------------------------------\n",
       "PhoneService \n",
       "       n  missing distinct \n",
       "    7043        0        2 \n",
       "                      \n",
       "Value         No   Yes\n",
       "Frequency    682  6361\n",
       "Proportion 0.097 0.903\n",
       "--------------------------------------------------------------------------------\n",
       "MultipleLines \n",
       "       n  missing distinct \n",
       "    7043        0        3 \n",
       "                                                             \n",
       "Value                    No No phone service              Yes\n",
       "Frequency              3390              682             2971\n",
       "Proportion            0.481            0.097            0.422\n",
       "--------------------------------------------------------------------------------\n",
       "InternetService \n",
       "       n  missing distinct \n",
       "    7043        0        3 \n",
       "                                              \n",
       "Value              DSL Fiber optic          No\n",
       "Frequency         2421        3096        1526\n",
       "Proportion       0.344       0.440       0.217\n",
       "--------------------------------------------------------------------------------\n",
       "OnlineSecurity \n",
       "       n  missing distinct \n",
       "    7043        0        3 \n",
       "                                                                      \n",
       "Value                       No No internet service                 Yes\n",
       "Frequency                 3498                1526                2019\n",
       "Proportion               0.497               0.217               0.287\n",
       "--------------------------------------------------------------------------------\n",
       "OnlineBackup \n",
       "       n  missing distinct \n",
       "    7043        0        3 \n",
       "                                                                      \n",
       "Value                       No No internet service                 Yes\n",
       "Frequency                 3088                1526                2429\n",
       "Proportion               0.438               0.217               0.345\n",
       "--------------------------------------------------------------------------------\n",
       "DeviceProtection \n",
       "       n  missing distinct \n",
       "    7043        0        3 \n",
       "                                                                      \n",
       "Value                       No No internet service                 Yes\n",
       "Frequency                 3095                1526                2422\n",
       "Proportion               0.439               0.217               0.344\n",
       "--------------------------------------------------------------------------------\n",
       "TechSupport \n",
       "       n  missing distinct \n",
       "    7043        0        3 \n",
       "                                                                      \n",
       "Value                       No No internet service                 Yes\n",
       "Frequency                 3473                1526                2044\n",
       "Proportion               0.493               0.217               0.290\n",
       "--------------------------------------------------------------------------------\n",
       "StreamingTV \n",
       "       n  missing distinct \n",
       "    7043        0        3 \n",
       "                                                                      \n",
       "Value                       No No internet service                 Yes\n",
       "Frequency                 2810                1526                2707\n",
       "Proportion               0.399               0.217               0.384\n",
       "--------------------------------------------------------------------------------\n",
       "StreamingMovies \n",
       "       n  missing distinct \n",
       "    7043        0        3 \n",
       "                                                                      \n",
       "Value                       No No internet service                 Yes\n",
       "Frequency                 2785                1526                2732\n",
       "Proportion               0.395               0.217               0.388\n",
       "--------------------------------------------------------------------------------\n",
       "Contract \n",
       "       n  missing distinct \n",
       "    7043        0        3 \n",
       "                                                       \n",
       "Value      Month-to-month       One year       Two year\n",
       "Frequency            3875           1473           1695\n",
       "Proportion          0.550          0.209          0.241\n",
       "--------------------------------------------------------------------------------\n",
       "PaperlessBilling \n",
       "       n  missing distinct \n",
       "    7043        0        2 \n",
       "                      \n",
       "Value         No   Yes\n",
       "Frequency   2872  4171\n",
       "Proportion 0.408 0.592\n",
       "--------------------------------------------------------------------------------\n",
       "PaymentMethod \n",
       "       n  missing distinct \n",
       "    7043        0        4 \n",
       "                                                              \n",
       "Value      Bank transfer (automatic)   Credit card (automatic)\n",
       "Frequency                       1544                      1522\n",
       "Proportion                     0.219                     0.216\n",
       "                                                              \n",
       "Value               Electronic check              Mailed check\n",
       "Frequency                       2365                      1612\n",
       "Proportion                     0.336                     0.229\n",
       "--------------------------------------------------------------------------------\n",
       "MonthlyCharges \n",
       "       n  missing distinct     Info     Mean      Gmd      .05      .10 \n",
       "    7043        0     1585        1    64.76    34.39    19.65    20.05 \n",
       "     .25      .50      .75      .90      .95 \n",
       "   35.50    70.35    89.85   102.60   107.40 \n",
       "\n",
       "lowest :  18.25  18.40  18.55  18.70  18.75, highest: 118.20 118.35 118.60 118.65 118.75\n",
       "--------------------------------------------------------------------------------\n",
       "TotalCharges \n",
       "       n  missing distinct     Info     Mean      Gmd      .05      .10 \n",
       "    7032       11     6530        1     2283     2449     49.6     84.6 \n",
       "     .25      .50      .75      .90      .95 \n",
       "   401.4   1397.5   3794.7   5976.6   6923.6 \n",
       "\n",
       "lowest :   18.80   18.85   18.90   19.00   19.05\n",
       "highest: 8564.75 8594.40 8670.10 8672.45 8684.80\n",
       "--------------------------------------------------------------------------------\n",
       "Churn \n",
       "       n  missing distinct \n",
       "    7043        0        2 \n",
       "                      \n",
       "Value         No   Yes\n",
       "Frequency   5174  1869\n",
       "Proportion 0.735 0.265\n",
       "--------------------------------------------------------------------------------"
      ]
     },
     "metadata": {},
     "output_type": "display_data"
    }
   ],
   "source": [
    "Hmisc::describe(DB_1)"
   ]
  },
  {
   "cell_type": "markdown",
   "id": "63b811c9",
   "metadata": {},
   "source": [
    "**Análisis Preliminar**:\n",
    "1. Con la inspección anterior, se observa que existen unicamente **11** elementos faltantes en la variable **TotalCharges**. Para lo cual, se procede a seleccionar unicamente la información sin datos faltantes.\n",
    "2. La proporción de hombres y mujeres es **0.505** y **0.495** respectivamente.\n",
    "3. La variable SeniroCitizen no se encuentra como variable categorica. Lo cual se modificará.\n",
    "4. La variable tipo factor MultipleLines se modificará el **No phone service** a **No**\n",
    "5. La variable tipo factor OnlineSecurity se modificará el **No internet service** a **No**\n",
    "6. El porcentaje de personas que han desertado es de **26.5%**"
   ]
  },
  {
   "cell_type": "code",
   "execution_count": 6,
   "id": "059e226a",
   "metadata": {},
   "outputs": [
    {
     "name": "stdout",
     "output_type": "stream",
     "text": [
      "Observations: 7,032\n",
      "Variables: 21\n",
      "$ customerID       <fct> 7590-VHVEG, 5575-GNVDE, 3668-QPYBK, 7795-CFOCW, 92...\n",
      "$ gender           <fct> Female, Male, Male, Male, Female, Female, Male, Fe...\n",
      "$ SeniorCitizen    <fct> No, No, No, No, No, No, No, No, No, No, No, No, No...\n",
      "$ Partner          <fct> Yes, No, No, No, No, No, No, No, Yes, No, Yes, No,...\n",
      "$ Dependents       <fct> No, No, No, No, No, No, Yes, No, No, Yes, Yes, No,...\n",
      "$ tenure           <int> 1, 34, 2, 45, 2, 8, 22, 10, 28, 62, 13, 16, 58, 49...\n",
      "$ PhoneService     <fct> No, Yes, Yes, No, Yes, Yes, Yes, No, Yes, Yes, Yes...\n",
      "$ MultipleLines    <fct> No phone service, No, No, No phone service, No, Ye...\n",
      "$ InternetService  <fct> DSL, DSL, DSL, DSL, Fiber optic, Fiber optic, Fibe...\n",
      "$ OnlineSecurity   <fct> No, Yes, Yes, Yes, No, No, No, Yes, No, Yes, Yes, ...\n",
      "$ OnlineBackup     <fct> Yes, No, Yes, No, No, No, Yes, No, No, Yes, No, No...\n",
      "$ DeviceProtection <fct> No, Yes, No, Yes, No, Yes, No, No, Yes, No, No, No...\n",
      "$ TechSupport      <fct> No, No, No, Yes, No, No, No, No, Yes, No, No, No i...\n",
      "$ StreamingTV      <fct> No, No, No, No, No, Yes, Yes, No, Yes, No, No, No ...\n",
      "$ StreamingMovies  <fct> No, No, No, No, No, Yes, No, No, Yes, No, No, No i...\n",
      "$ Contract         <fct> Month-to-month, One year, Month-to-month, One year...\n",
      "$ PaperlessBilling <fct> Yes, No, Yes, No, Yes, Yes, Yes, No, Yes, No, Yes,...\n",
      "$ PaymentMethod    <fct> Electronic check, Mailed check, Mailed check, Bank...\n",
      "$ MonthlyCharges   <dbl> 29.85, 56.95, 53.85, 42.30, 70.70, 99.65, 89.10, 2...\n",
      "$ TotalCharges     <dbl> 29.85, 1889.50, 108.15, 1840.75, 151.65, 820.50, 1...\n",
      "$ Churn            <fct> No, No, Yes, No, Yes, Yes, No, No, Yes, No, No, No...\n"
     ]
    }
   ],
   "source": [
    "# Agrupando información sin datos faltantes\n",
    "DB_2 <- DB_1[complete.cases(DB_1),]\n",
    "# Modificar la variable SeniorCitizen como un factor\n",
    "DB_2$SeniorCitizen <- as.factor(ifelse(DB_2$SeniorCitizen==1, \"Yes\", \"No\"))\n",
    "glimpse(DB_2)"
   ]
  },
  {
   "cell_type": "markdown",
   "id": "4a61aef9",
   "metadata": {},
   "source": [
    "### 2.Visualización Preliminar"
   ]
  },
  {
   "cell_type": "code",
   "execution_count": 7,
   "id": "b92bde09",
   "metadata": {},
   "outputs": [
    {
     "data": {
      "image/png": "[encoded data removed]",
      "text/plain": [
       "plot without title"
      ]
     },
     "metadata": {},
     "output_type": "display_data"
    }
   ],
   "source": [
    "# Churn\n",
    "DB_2 %>%\n",
    "group_by(Churn) %>%\n",
    "summarise(cantidadChurn = n())%>%\n",
    "mutate(porcentajeChurn =prop.table(cantidadChurn)*100)%>%\n",
    "ggplot(aes(x = Churn, \n",
    "           y = porcentajeChurn, \n",
    "           fill = Churn))+\n",
    "geom_col()+\n",
    "xlab(\"Deserción\")+\n",
    "ylab(\"Porcentaje\")+\n",
    "ggtitle(\"Porcentaje de Deserción\")+\n",
    "scale_fill_discrete(name=\"Categorias\",\n",
    "                     breaks=c(\"Yes\", \"No\"),\n",
    "                     labels=c(\"Si\", \"No\"))"
   ]
  },
  {
   "cell_type": "markdown",
   "id": "56c524c5",
   "metadata": {},
   "source": [
    "Tal como se mencionó previamente, se observa que se posee un porcentaje deserción del 26.58%\n",
    "\n",
    "Comprobemos como se encuentra la deserción frente a las variables.\n"
   ]
  },
  {
   "cell_type": "markdown",
   "id": "85690749",
   "metadata": {},
   "source": [
    "Observemos como se encuentran relacionadas las variables cuantitativas entre sí."
   ]
  },
  {
   "cell_type": "code",
   "execution_count": 8,
   "id": "36cbde25",
   "metadata": {},
   "outputs": [
    {
     "data": {
      "image/png": "[encoded data removed]",
      "text/plain": [
       "Plot with title \"Correlación\""
      ]
     },
     "metadata": {},
     "output_type": "display_data"
    }
   ],
   "source": [
    "cor1 <- round(cor(DB_2[,c(\"tenure\", \n",
    "                                \"MonthlyCharges\", \n",
    "                                \"TotalCharges\")]), 1)\n",
    "\n",
    "corrplot(cor1, method ='shade',  title = \"Correlación\")"
   ]
  },
  {
   "cell_type": "markdown",
   "id": "c8a9a174",
   "metadata": {},
   "source": [
    "Podemos observar:\n",
    "* MonthlyCharges y tenure tienen una baja correlación.\n",
    "* Monthlycharges y TotalCharges poseen una mayor correlación positiva.\n",
    "* Tenure y TotalCharges poseen la mayor correlación positiva \n",
    "\n",
    "### Manipulando la información\n",
    "Se debe de colocar las variables en formato numérico para proceder con la creación del modelo."
   ]
  },
  {
   "cell_type": "code",
   "execution_count": 9,
   "id": "7a686b16",
   "metadata": {},
   "outputs": [
    {
     "name": "stdout",
     "output_type": "stream",
     "text": [
      "Observations: 7,032\n",
      "Variables: 31\n",
      "$ tenure                                 <dbl> 1, 34, 2, 45, 2, 8, 22, 10, ...\n",
      "$ MonthlyCharges                         <dbl> 29.85, 56.95, 53.85, 42.30, ...\n",
      "$ TotalCharges                           <dbl> 29.85, 1889.50, 108.15, 1840...\n",
      "$ gender                                 <dbl> 0, 1, 1, 1, 0, 0, 1, 0, 0, 1...\n",
      "$ SeniorCitizen                          <dbl> 0, 0, 0, 0, 0, 0, 0, 0, 0, 0...\n",
      "$ Partner                                <dbl> 1, 0, 0, 0, 0, 0, 0, 0, 1, 0...\n",
      "$ Dependents                             <dbl> 0, 0, 0, 0, 0, 0, 1, 0, 0, 1...\n",
      "$ PhoneService                           <dbl> 0, 1, 1, 0, 1, 1, 1, 0, 1, 1...\n",
      "$ MultipleLines.xNo.phone.service        <dbl> 1, 0, 0, 1, 0, 0, 0, 1, 0, 0...\n",
      "$ MultipleLines.xYes                     <dbl> 0, 0, 0, 0, 0, 1, 1, 0, 1, 0...\n",
      "$ InternetService.xFiber.optic           <dbl> 0, 0, 0, 0, 1, 1, 1, 0, 1, 0...\n",
      "$ InternetService.xNo                    <dbl> 0, 0, 0, 0, 0, 0, 0, 0, 0, 0...\n",
      "$ OnlineSecurity.xNo.internet.service    <dbl> 0, 0, 0, 0, 0, 0, 0, 0, 0, 0...\n",
      "$ OnlineSecurity.xYes                    <dbl> 0, 1, 1, 1, 0, 0, 0, 1, 0, 1...\n",
      "$ OnlineBackup.xNo.internet.service      <dbl> 0, 0, 0, 0, 0, 0, 0, 0, 0, 0...\n",
      "$ OnlineBackup.xYes                      <dbl> 1, 0, 1, 0, 0, 0, 1, 0, 0, 1...\n",
      "$ DeviceProtection.xNo.internet.service  <dbl> 0, 0, 0, 0, 0, 0, 0, 0, 0, 0...\n",
      "$ DeviceProtection.xYes                  <dbl> 0, 1, 0, 1, 0, 1, 0, 0, 1, 0...\n",
      "$ TechSupport.xNo.internet.service       <dbl> 0, 0, 0, 0, 0, 0, 0, 0, 0, 0...\n",
      "$ TechSupport.xYes                       <dbl> 0, 0, 0, 1, 0, 0, 0, 0, 1, 0...\n",
      "$ StreamingTV.xNo.internet.service       <dbl> 0, 0, 0, 0, 0, 0, 0, 0, 0, 0...\n",
      "$ StreamingTV.xYes                       <dbl> 0, 0, 0, 0, 0, 1, 1, 0, 1, 0...\n",
      "$ StreamingMovies.xNo.internet.service   <dbl> 0, 0, 0, 0, 0, 0, 0, 0, 0, 0...\n",
      "$ StreamingMovies.xYes                   <dbl> 0, 0, 0, 0, 0, 1, 0, 0, 1, 0...\n",
      "$ Contract.xOne.year                     <dbl> 0, 1, 0, 1, 0, 0, 0, 0, 0, 1...\n",
      "$ Contract.xTwo.year                     <dbl> 0, 0, 0, 0, 0, 0, 0, 0, 0, 0...\n",
      "$ PaperlessBilling                       <dbl> 1, 0, 1, 0, 1, 1, 1, 0, 1, 0...\n",
      "$ PaymentMethod.xCredit.card..automatic. <dbl> 0, 0, 0, 0, 0, 0, 1, 0, 0, 0...\n",
      "$ PaymentMethod.xElectronic.check        <dbl> 1, 0, 0, 0, 1, 1, 0, 0, 1, 0...\n",
      "$ PaymentMethod.xMailed.check            <dbl> 0, 1, 1, 0, 0, 0, 0, 1, 0, 0...\n",
      "$ Churn                                  <dbl> 0, 0, 1, 0, 1, 1, 0, 0, 1, 0...\n"
     ]
    },
    {
     "data": {
      "text/plain": [
       "\n",
       " FALSE \n",
       "217992 "
      ]
     },
     "metadata": {},
     "output_type": "display_data"
    }
   ],
   "source": [
    "# Obteneción de las columnas numericas\n",
    "columnasNumericas <- c(\"tenure\", \"MonthlyCharges\", \"TotalCharges\")\n",
    "DB_2[columnasNumericas] <- sapply(DB_2[columnasNumericas], as.numeric)\n",
    "\n",
    "# DB con las variables numericas\n",
    "DB_int <- DB_2[,columnasNumericas]\n",
    "#glimpse(DB_int)\n",
    "\n",
    "# Obtención de las columnas categoricas\n",
    "# Se las trabaja para poder convertirlas de categoricas a numericas \n",
    "# Pasarlas a valores de 0 y 1.\n",
    "DB_cat <- DB_2[,-c(1,6,19,20)]\n",
    "\n",
    "DB_cat1 <-  data.frame(sapply(DB_cat,\n",
    "                              function(x) data.frame(model.matrix(~x-1,data =DB_cat))[,-1]\n",
    "                              ))\n",
    "                              \n",
    "# Unir las columnas \n",
    "DB_model <- cbind(DB_int, DB_cat1)\n",
    "DB_model <- DB_model[complete.cases(DB_model),]\n",
    "glimpse(DB_model)\n",
    "# Determinar si tienen valores na\n",
    "table(is.na(DB_model))"
   ]
  },
  {
   "cell_type": "markdown",
   "id": "7f249ef9",
   "metadata": {},
   "source": [
    "### 3.Modelo\n",
    "Debido a que se quiere determinar si el usuario puede salir de la compañia, el modelo que se escogió es un modelo de regresión logistica\n",
    "\n",
    "\n",
    "Se debe en primer lugar separar la información:\n",
    "* 70% para el entrenamiento\n",
    "* 30% para la validación"
   ]
  },
  {
   "cell_type": "code",
   "execution_count": 10,
   "id": "527e9a1d",
   "metadata": {},
   "outputs": [
    {
     "name": "stdout",
     "output_type": "stream",
     "text": [
      "Observations: 2,110\n",
      "Variables: 31\n",
      "$ tenure                                 <dbl> 1, 10, 13, 25, 12, 58, 1, 72...\n",
      "$ MonthlyCharges                         <dbl> 29.85, 29.75, 49.95, 105.50,...\n",
      "$ TotalCharges                           <dbl> 29.85, 301.90, 587.45, 2686....\n",
      "$ gender                                 <dbl> 0, 0, 1, 1, 1, 0, 1, 0, 1, 0...\n",
      "$ SeniorCitizen                          <dbl> 0, 0, 0, 0, 0, 0, 1, 0, 0, 0...\n",
      "$ Partner                                <dbl> 1, 0, 1, 0, 1, 1, 0, 1, 0, 0...\n",
      "$ Dependents                             <dbl> 0, 0, 1, 0, 0, 0, 0, 1, 0, 0...\n",
      "$ PhoneService                           <dbl> 0, 0, 1, 1, 1, 1, 1, 1, 1, 1...\n",
      "$ MultipleLines.xNo.phone.service        <dbl> 1, 1, 0, 0, 0, 0, 0, 0, 0, 0...\n",
      "$ MultipleLines.xYes                     <dbl> 0, 0, 0, 0, 0, 1, 0, 1, 0, 0...\n",
      "$ InternetService.xFiber.optic           <dbl> 0, 0, 0, 1, 0, 0, 0, 1, 1, 1...\n",
      "$ InternetService.xNo                    <dbl> 0, 0, 0, 0, 1, 0, 0, 0, 0, 0...\n",
      "$ OnlineSecurity.xNo.internet.service    <dbl> 0, 0, 0, 0, 1, 0, 0, 0, 0, 0...\n",
      "$ OnlineSecurity.xYes                    <dbl> 0, 1, 1, 1, 0, 0, 0, 1, 0, 0...\n",
      "$ OnlineBackup.xNo.internet.service      <dbl> 0, 0, 0, 0, 1, 0, 0, 0, 0, 0...\n",
      "$ OnlineBackup.xYes                      <dbl> 1, 0, 0, 0, 0, 1, 0, 1, 0, 0...\n",
      "$ DeviceProtection.xNo.internet.service  <dbl> 0, 0, 0, 0, 1, 0, 0, 0, 0, 0...\n",
      "$ DeviceProtection.xYes                  <dbl> 0, 0, 0, 1, 0, 0, 0, 0, 0, 1...\n",
      "$ TechSupport.xNo.internet.service       <dbl> 0, 0, 0, 0, 1, 0, 0, 0, 0, 0...\n",
      "$ TechSupport.xYes                       <dbl> 0, 0, 0, 1, 0, 1, 0, 1, 0, 0...\n",
      "$ StreamingTV.xNo.internet.service       <dbl> 0, 0, 0, 0, 1, 0, 0, 0, 0, 0...\n",
      "$ StreamingTV.xYes                       <dbl> 0, 0, 0, 1, 0, 0, 0, 1, 0, 0...\n",
      "$ StreamingMovies.xNo.internet.service   <dbl> 0, 0, 0, 0, 1, 0, 0, 0, 0, 0...\n",
      "$ StreamingMovies.xYes                   <dbl> 0, 0, 0, 1, 0, 0, 0, 0, 0, 0...\n",
      "$ Contract.xOne.year                     <dbl> 0, 0, 0, 0, 1, 0, 0, 0, 0, 0...\n",
      "$ Contract.xTwo.year                     <dbl> 0, 0, 0, 0, 0, 1, 0, 1, 0, 0...\n",
      "$ PaperlessBilling                       <dbl> 1, 0, 1, 1, 0, 1, 0, 0, 1, 1...\n",
      "$ PaymentMethod.xCredit.card..automatic. <dbl> 0, 0, 0, 0, 0, 1, 0, 0, 0, 1...\n",
      "$ PaymentMethod.xElectronic.check        <dbl> 1, 0, 0, 1, 0, 0, 0, 0, 1, 0...\n",
      "$ PaymentMethod.xMailed.check            <dbl> 0, 1, 1, 0, 0, 0, 0, 0, 0, 0...\n",
      "$ Churn                                  <dbl> 0, 0, 0, 0, 0, 0, 0, 0, 1, 0...\n"
     ]
    }
   ],
   "source": [
    "# Se empieza una semilla para la alietoriedad\n",
    "set.seed(745)\n",
    "indexData <- sample.split(DB_model$Churn, \n",
    "                                SplitRatio = 0.70)\n",
    "entrenamiento <- DB_model[indexData,]\n",
    "validacion <- DB_model[!(indexData),]\n",
    "glimpse(validacion)"
   ]
  },
  {
   "cell_type": "markdown",
   "id": "862f90e1",
   "metadata": {},
   "source": [
    "Con la data procesada en los grupos de entrenamiento y validación.\n",
    "Se procede a obtener el modelo de regresión logística."
   ]
  },
  {
   "cell_type": "code",
   "execution_count": 11,
   "id": "80bcf729",
   "metadata": {},
   "outputs": [
    {
     "data": {
      "text/plain": [
       "\n",
       "Call:\n",
       "glm(formula = Churn ~ ., family = \"binomial\", data = entrenamiento)\n",
       "\n",
       "Deviance Residuals: \n",
       "    Min       1Q   Median       3Q      Max  \n",
       "-1.8048  -0.6956  -0.2989   0.7478   3.3111  \n",
       "\n",
       "Coefficients: (7 not defined because of singularities)\n",
       "                                         Estimate Std. Error z value Pr(>|z|)\n",
       "(Intercept)                             1.378e+00  9.751e-01   1.413 0.157708\n",
       "tenure                                 -5.772e-02  7.306e-03  -7.901 2.77e-15\n",
       "MonthlyCharges                         -4.929e-02  3.781e-02  -1.304 0.192395\n",
       "TotalCharges                            3.053e-04  8.337e-05   3.661 0.000251\n",
       "gender                                  4.871e-02  7.680e-02   0.634 0.525943\n",
       "SeniorCitizen                           1.581e-01  1.001e-01   1.579 0.114279\n",
       "Partner                                -2.622e-02  9.210e-02  -0.285 0.775866\n",
       "Dependents                             -2.361e-01  1.066e-01  -2.214 0.026803\n",
       "PhoneService                            4.743e-01  7.716e-01   0.615 0.538808\n",
       "MultipleLines.xNo.phone.service                NA         NA      NA       NA\n",
       "MultipleLines.xYes                      5.928e-01  2.110e-01   2.809 0.004968\n",
       "InternetService.xFiber.optic            1.829e+00  9.474e-01   1.931 0.053500\n",
       "InternetService.xNo                    -2.051e+00  9.624e-01  -2.131 0.033090\n",
       "OnlineSecurity.xNo.internet.service            NA         NA      NA       NA\n",
       "OnlineSecurity.xYes                    -1.668e-01  2.127e-01  -0.784 0.433121\n",
       "OnlineBackup.xNo.internet.service              NA         NA      NA       NA\n",
       "OnlineBackup.xYes                       6.282e-02  2.083e-01   0.302 0.762970\n",
       "DeviceProtection.xNo.internet.service          NA         NA      NA       NA\n",
       "DeviceProtection.xYes                   1.981e-01  2.093e-01   0.946 0.344106\n",
       "TechSupport.xNo.internet.service               NA         NA      NA       NA\n",
       "TechSupport.xYes                       -6.342e-02  2.144e-01  -0.296 0.767337\n",
       "StreamingTV.xNo.internet.service               NA         NA      NA       NA\n",
       "StreamingTV.xYes                        6.349e-01  3.882e-01   1.636 0.101881\n",
       "StreamingMovies.xNo.internet.service           NA         NA      NA       NA\n",
       "StreamingMovies.xYes                    6.595e-01  3.904e-01   1.689 0.091133\n",
       "Contract.xOne.year                     -6.562e-01  1.275e-01  -5.148 2.63e-07\n",
       "Contract.xTwo.year                     -1.379e+00  2.119e-01  -6.509 7.57e-11\n",
       "PaperlessBilling                        2.465e-01  8.876e-02   2.777 0.005486\n",
       "PaymentMethod.xCredit.card..automatic. -4.715e-02  1.365e-01  -0.345 0.729733\n",
       "PaymentMethod.xElectronic.check         3.212e-01  1.128e-01   2.847 0.004407\n",
       "PaymentMethod.xMailed.check            -9.720e-02  1.354e-01  -0.718 0.472923\n",
       "                                          \n",
       "(Intercept)                               \n",
       "tenure                                 ***\n",
       "MonthlyCharges                            \n",
       "TotalCharges                           ***\n",
       "gender                                    \n",
       "SeniorCitizen                             \n",
       "Partner                                   \n",
       "Dependents                             *  \n",
       "PhoneService                              \n",
       "MultipleLines.xNo.phone.service           \n",
       "MultipleLines.xYes                     ** \n",
       "InternetService.xFiber.optic           .  \n",
       "InternetService.xNo                    *  \n",
       "OnlineSecurity.xNo.internet.service       \n",
       "OnlineSecurity.xYes                       \n",
       "OnlineBackup.xNo.internet.service         \n",
       "OnlineBackup.xYes                         \n",
       "DeviceProtection.xNo.internet.service     \n",
       "DeviceProtection.xYes                     \n",
       "TechSupport.xNo.internet.service          \n",
       "TechSupport.xYes                          \n",
       "StreamingTV.xNo.internet.service          \n",
       "StreamingTV.xYes                          \n",
       "StreamingMovies.xNo.internet.service      \n",
       "StreamingMovies.xYes                   .  \n",
       "Contract.xOne.year                     ***\n",
       "Contract.xTwo.year                     ***\n",
       "PaperlessBilling                       ** \n",
       "PaymentMethod.xCredit.card..automatic.    \n",
       "PaymentMethod.xElectronic.check        ** \n",
       "PaymentMethod.xMailed.check               \n",
       "---\n",
       "Signif. codes:  0 '***' 0.001 '**' 0.01 '*' 0.05 '.' 0.1 ' ' 1\n",
       "\n",
       "(Dispersion parameter for binomial family taken to be 1)\n",
       "\n",
       "    Null deviance: 5699.5  on 4921  degrees of freedom\n",
       "Residual deviance: 4145.0  on 4898  degrees of freedom\n",
       "AIC: 4193\n",
       "\n",
       "Number of Fisher Scoring iterations: 6\n"
      ]
     },
     "metadata": {},
     "output_type": "display_data"
    }
   ],
   "source": [
    "# El primer modelo de regresión logistica \n",
    "# Realizamos un proceso binomial con respecto de la variable Churn \n",
    "# frente a todas las variables.\n",
    "modelRL <- glm(Churn ~., \n",
    "              data = entrenamiento,\n",
    "              family=\"binomial\")\n",
    "summary(modelRL)"
   ]
  },
  {
   "cell_type": "markdown",
   "id": "dc7291b0",
   "metadata": {},
   "source": [
    "El modelo obtenido nos proporciona los valores Z y las probabilidades, lo cual nos permite seleccionar las variables que nos aportan al modelo, es decir aquellas que son más significativas.\n",
    "\n",
    "Las variables obtenidas son:\n",
    "* tenure  \n",
    "* TotalCharges\n",
    "* MultipleLines.xYes\n",
    "* Contract.xOne.year\n",
    "* Contract.xTwo.year \n",
    "* PaperlessBilling\n",
    "* PaymentMethod.xElectronic.check"
   ]
  },
  {
   "cell_type": "code",
   "execution_count": 12,
   "id": "c2f9b85d",
   "metadata": {},
   "outputs": [
    {
     "data": {
      "text/plain": [
       "\n",
       "Call:\n",
       "glm(formula = Churn ~ tenure + TotalCharges + Dependents + MultipleLines.xYes + \n",
       "    Contract.xOne.year + Contract.xTwo.year + PaperlessBilling + \n",
       "    PaymentMethod.xElectronic.check, family = \"binomial\", data = entrenamiento)\n",
       "\n",
       "Deviance Residuals: \n",
       "    Min       1Q   Median       3Q      Max  \n",
       "-1.6476  -0.7596  -0.3080   0.8202   3.4783  \n",
       "\n",
       "Coefficients:\n",
       "                                  Estimate Std. Error z value Pr(>|z|)    \n",
       "(Intercept)                     -4.897e-01  8.697e-02  -5.631 1.79e-08 ***\n",
       "tenure                          -7.380e-02  6.285e-03 -11.742  < 2e-16 ***\n",
       "TotalCharges                     5.271e-04  6.366e-05   8.279  < 2e-16 ***\n",
       "Dependents                      -3.547e-01  9.325e-02  -3.804 0.000143 ***\n",
       "MultipleLines.xYes               4.537e-01  8.872e-02   5.114 3.16e-07 ***\n",
       "Contract.xOne.year              -8.808e-01  1.225e-01  -7.191 6.42e-13 ***\n",
       "Contract.xTwo.year              -1.846e+00  2.060e-01  -8.959  < 2e-16 ***\n",
       "PaperlessBilling                 4.782e-01  8.439e-02   5.667 1.45e-08 ***\n",
       "PaymentMethod.xElectronic.check  6.467e-01  7.731e-02   8.365  < 2e-16 ***\n",
       "---\n",
       "Signif. codes:  0 '***' 0.001 '**' 0.01 '*' 0.05 '.' 0.1 ' ' 1\n",
       "\n",
       "(Dispersion parameter for binomial family taken to be 1)\n",
       "\n",
       "    Null deviance: 5699.5  on 4921  degrees of freedom\n",
       "Residual deviance: 4296.9  on 4913  degrees of freedom\n",
       "AIC: 4314.9\n",
       "\n",
       "Number of Fisher Scoring iterations: 6\n"
      ]
     },
     "metadata": {},
     "output_type": "display_data"
    }
   ],
   "source": [
    "ModelRL2 <- glm(Churn ~ \n",
    "                tenure + \n",
    "                TotalCharges + \n",
    "                Dependents + \n",
    "                MultipleLines.xYes +\n",
    "                Contract.xOne.year +\n",
    "                Contract.xTwo.year +\n",
    "                PaperlessBilling +\n",
    "                PaymentMethod.xElectronic.check, \n",
    "              data = entrenamiento,\n",
    "              family=\"binomial\")\n",
    "summary(ModelRL2)"
   ]
  },
  {
   "cell_type": "markdown",
   "id": "dcab99ab",
   "metadata": {},
   "source": [
    "Una vez se tiene un modelo que nos de valores significantes, se procede a realizar la validación.\n",
    "\n",
    "Para esta etapa se procede con la data de validación.\n",
    "\n",
    "### 4. Evaluación\n",
    "\n",
    "### Criterios de capacidad predictiva\n",
    "Analisis dentro de la muestra"
   ]
  },
  {
   "cell_type": "code",
   "execution_count": 13,
   "id": "ab9568e9",
   "metadata": {},
   "outputs": [
    {
     "data": {
      "image/png": "[encoded data removed]",
      "text/plain": [
       "Plot with title \"TP_rate vs FP_rate\""
      ]
     },
     "metadata": {},
     "output_type": "display_data"
    }
   ],
   "source": [
    "pred <- prediction(ModelRL2$fitted.values, \n",
    "                   entrenamiento$Churn)\n",
    "perf <- performance(pred, \n",
    "                    measure = \"tpr\", \n",
    "                    x.measure = \"fpr\") \n",
    "plot(perf, colorize=T,lty=3)\n",
    "\n",
    "abline(0,1,col=\"black\")\n",
    "title(\"TP_rate vs FP_rate\")"
   ]
  },
  {
   "cell_type": "code",
   "execution_count": 14,
   "id": "8e4cd227",
   "metadata": {},
   "outputs": [
    {
     "data": {
      "image/png": "[encoded data removed]",
      "text/plain": [
       "Plot with title \"Precision vs Recall\""
      ]
     },
     "metadata": {},
     "output_type": "display_data"
    }
   ],
   "source": [
    "# Curva precision-recall ====\n",
    "perf <- performance(pred, \n",
    "                    measure = \"prec\", \n",
    "                    x.measure = \"rec\") \n",
    "plot(perf, colorize=T,lty=3)\n",
    "title(\"Precision vs Recall\")"
   ]
  },
  {
   "cell_type": "markdown",
   "id": "7cd48403",
   "metadata": {},
   "source": [
    "Se logra apreciar que el modelo de regresion logistica obtenido tiene una buen desempeño.\n",
    "\n",
    "**Análisis fuera de la muestra**"
   ]
  },
  {
   "cell_type": "code",
   "execution_count": 15,
   "id": "30805336",
   "metadata": {},
   "outputs": [
    {
     "data": {
      "text/plain": [
       "     Min.   1st Qu.    Median      Mean   3rd Qu.      Max. \n",
       "0.0006706 0.0435693 0.2241483 0.2623872 0.4543357 0.7444587 "
      ]
     },
     "metadata": {},
     "output_type": "display_data"
    },
    {
     "data": {
      "text/plain": [
       "Confusion Matrix and Statistics\n",
       "\n",
       "          Reference\n",
       "Prediction   No  Yes\n",
       "       No  1408  298\n",
       "       Yes  141  263\n",
       "                                         \n",
       "               Accuracy : 0.7919         \n",
       "                 95% CI : (0.774, 0.8091)\n",
       "    No Information Rate : 0.7341         \n",
       "    P-Value [Acc > NIR] : 4.147e-10      \n",
       "                                         \n",
       "                  Kappa : 0.4148         \n",
       "                                         \n",
       " Mcnemar's Test P-Value : 9.660e-14      \n",
       "                                         \n",
       "            Sensitivity : 0.4688         \n",
       "            Specificity : 0.9090         \n",
       "         Pos Pred Value : 0.6510         \n",
       "         Neg Pred Value : 0.8253         \n",
       "             Prevalence : 0.2659         \n",
       "         Detection Rate : 0.1246         \n",
       "   Detection Prevalence : 0.1915         \n",
       "      Balanced Accuracy : 0.6889         \n",
       "                                         \n",
       "       'Positive' Class : Yes            \n",
       "                                         "
      ]
     },
     "metadata": {},
     "output_type": "display_data"
    }
   ],
   "source": [
    "pred <- predict(ModelRL2, \n",
    "                type = \"response\",\n",
    "                newdata = validacion[,-24])\n",
    "summary(pred)\n",
    "\n",
    "confusionMatrix(factor(ifelse(pred >=0.50, \"Yes\", \"No\")),\n",
    "                factor(ifelse(validacion$Churn==1,\"Yes\",\"No\")),\n",
    "                positive = \"Yes\")"
   ]
  },
  {
   "cell_type": "markdown",
   "id": "2a5d93fd",
   "metadata": {},
   "source": [
    "### 5. Conclusiones\n",
    "Debido a la distribución de data que se encuentra manejando, al tener mayores casos en los cuales no desertan de la compañia, se obtiene una mejor predicción en los casos en los que los usuarios no desertan de la compañia.\n",
    "\n",
    "La predicción del modelo es del 79%, en cual su intervalo de confianza se encuentra entre (77% y 80%).\n",
    "\n",
    "Para obtener mejores resultados se debe de probar analizando con un modelo de:\n",
    "* Árbol de decisión\n",
    "\n",
    "En el caso de que el arbol de decisión no de buenos resultados, se puede emplear un randomForest, debido a que no se encuentra trabajando con mucha data y el coste computacional no sería tanto.\n",
    "\n",
    "Se debe de considerar que el modelo que se desarrolló se puede encontrar afectado debido a que el modelo de regresión logistica obtuvo valores NA dentro de su resolución.\n",
    "\n",
    "Los pasos en la visualización son importantes, se debe de considerar como se encuentran interactuando las variables de deserción frente a las demás variables.\n",
    "\n",
    "Por último, un análisis de componente principales, se puede realizar para comprender si existen problemas de multicolinealidad, y sean estos factores, unas de las causales del desempeño del modelo."
   ]
  }
 ],
 "metadata": {
  "kernelspec": {
   "display_name": "R",
   "language": "R",
   "name": "ir"
  },
  "language_info": {
   "codemirror_mode": "r",
   "file_extension": ".r",
   "mimetype": "text/x-r-source",
   "name": "R",
   "pygments_lexer": "r",
   "version": "3.6.1"
  }
 },
 "nbformat": 4,
 "nbformat_minor": 5
}
